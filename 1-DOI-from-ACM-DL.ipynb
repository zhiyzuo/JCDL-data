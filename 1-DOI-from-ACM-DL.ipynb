{
 "cells": [
  {
   "cell_type": "markdown",
   "metadata": {},
   "source": [
    "Download ___doi___ data from ACM digital library."
   ]
  },
  {
   "cell_type": "markdown",
   "metadata": {},
   "source": [
    "01-03-2018"
   ]
  },
  {
   "cell_type": "markdown",
   "metadata": {},
   "source": [
    "---"
   ]
  },
  {
   "cell_type": "code",
   "execution_count": 80,
   "metadata": {
    "ExecuteTime": {
     "end_time": "2018-01-03T03:22:47.651190Z",
     "start_time": "2018-01-03T03:22:47.648399Z"
    }
   },
   "outputs": [],
   "source": [
    "import time, random"
   ]
  },
  {
   "cell_type": "code",
   "execution_count": 121,
   "metadata": {
    "ExecuteTime": {
     "end_time": "2018-01-03T04:12:51.721022Z",
     "start_time": "2018-01-03T04:12:51.696993Z"
    }
   },
   "outputs": [],
   "source": [
    "import numpy as np"
   ]
  },
  {
   "cell_type": "code",
   "execution_count": 7,
   "metadata": {
    "ExecuteTime": {
     "end_time": "2018-01-03T02:32:12.580636Z",
     "start_time": "2018-01-03T02:32:12.577683Z"
    }
   },
   "outputs": [],
   "source": [
    "import requests"
   ]
  },
  {
   "cell_type": "code",
   "execution_count": 13,
   "metadata": {
    "ExecuteTime": {
     "end_time": "2018-01-03T02:34:51.308109Z",
     "start_time": "2018-01-03T02:34:51.304944Z"
    }
   },
   "outputs": [],
   "source": [
    "from bs4 import BeautifulSoup as Soup"
   ]
  },
  {
   "cell_type": "code",
   "execution_count": 8,
   "metadata": {
    "ExecuteTime": {
     "end_time": "2018-01-03T02:32:12.787077Z",
     "start_time": "2018-01-03T02:32:12.784354Z"
    }
   },
   "outputs": [],
   "source": [
    "agent = \"Mozilla/5.0 (Windows NT 6.3; WOW64) AppleWebKit/537.36 (KHTML, like Gecko) Chrome/46.0.2490.80 Safari/537.36\""
   ]
  },
  {
   "cell_type": "code",
   "execution_count": 9,
   "metadata": {
    "ExecuteTime": {
     "end_time": "2018-01-03T02:32:13.012827Z",
     "start_time": "2018-01-03T02:32:13.009131Z"
    }
   },
   "outputs": [],
   "source": [
    "base_url = 'https://dl.acm.org/citation.cfm'"
   ]
  },
  {
   "cell_type": "markdown",
   "metadata": {},
   "source": [
    "---"
   ]
  },
  {
   "cell_type": "markdown",
   "metadata": {},
   "source": [
    "#### Next link"
   ]
  },
  {
   "cell_type": "markdown",
   "metadata": {},
   "source": [
    "Starting from a conference."
   ]
  },
  {
   "cell_type": "code",
   "execution_count": 104,
   "metadata": {
    "ExecuteTime": {
     "end_time": "2018-01-03T03:53:30.446464Z",
     "start_time": "2018-01-03T03:53:30.442171Z"
    }
   },
   "outputs": [],
   "source": [
    "id_1 = '544220'"
   ]
  },
  {
   "cell_type": "code",
   "execution_count": 105,
   "metadata": {
    "ExecuteTime": {
     "end_time": "2018-01-03T03:53:56.696447Z",
     "start_time": "2018-01-03T03:53:30.940960Z"
    }
   },
   "outputs": [],
   "source": [
    "start_req = requests.get(base_url, params={'id': id_1, 'preflayout': 'flat'},\n",
    "                         headers={'User-Agent': agent})"
   ]
  },
  {
   "cell_type": "code",
   "execution_count": 106,
   "metadata": {
    "ExecuteTime": {
     "end_time": "2018-01-03T03:53:56.946381Z",
     "start_time": "2018-01-03T03:53:56.698406Z"
    }
   },
   "outputs": [],
   "source": [
    "content = Soup(start_req.content, 'lxml')"
   ]
  },
  {
   "cell_type": "markdown",
   "metadata": {},
   "source": [
    "The last `flatbody`"
   ]
  },
  {
   "cell_type": "code",
   "execution_count": 107,
   "metadata": {
    "ExecuteTime": {
     "end_time": "2018-01-03T03:53:57.019753Z",
     "start_time": "2018-01-03T03:53:56.948358Z"
    }
   },
   "outputs": [],
   "source": [
    "tab_div = content.find_all('div', class_='flatbody')[-1]"
   ]
  },
  {
   "cell_type": "markdown",
   "metadata": {},
   "source": [
    "The 2nd div in `tab_div`"
   ]
  },
  {
   "cell_type": "code",
   "execution_count": 108,
   "metadata": {
    "ExecuteTime": {
     "end_time": "2018-01-03T03:53:57.035720Z",
     "start_time": "2018-01-03T03:53:57.022449Z"
    }
   },
   "outputs": [],
   "source": [
    "tmp_div = tab_div.find_all('div')[2]"
   ]
  },
  {
   "cell_type": "markdown",
   "metadata": {},
   "source": [
    "The last hperlink (tag `a`) in the 1st div in `tmp_div`"
   ]
  },
  {
   "cell_type": "code",
   "execution_count": 109,
   "metadata": {
    "ExecuteTime": {
     "end_time": "2018-01-03T03:53:57.045698Z",
     "start_time": "2018-01-03T03:53:57.038173Z"
    }
   },
   "outputs": [
    {
     "data": {
      "text/plain": [
       "<a href=\"citation.cfm?id=827140&amp;picked=prox&amp;CFID=1023272311&amp;CFTOKEN=40704048\" title=\"Next: JCDL '03\">next proceeding <img align=\"absmiddle\" alt=\"next\" border=\"0\" height=\"11\" hspace=\"5\" src=\"img/next.gif\" width=\"19\"/></a>"
      ]
     },
     "execution_count": 109,
     "metadata": {},
     "output_type": "execute_result"
    }
   ],
   "source": [
    "a_tag = tmp_div.find('div').find_all('a')[-1]\n",
    "a_tag"
   ]
  },
  {
   "cell_type": "markdown",
   "metadata": {},
   "source": [
    "The link in the `a_tag`"
   ]
  },
  {
   "cell_type": "code",
   "execution_count": 110,
   "metadata": {
    "ExecuteTime": {
     "end_time": "2018-01-03T03:53:57.053534Z",
     "start_time": "2018-01-03T03:53:57.048017Z"
    }
   },
   "outputs": [
    {
     "data": {
      "text/plain": [
       "'827140'"
      ]
     },
     "execution_count": 110,
     "metadata": {},
     "output_type": "execute_result"
    }
   ],
   "source": [
    "next_id = a_tag['href'].split('&')[0].split('=')[-1]\n",
    "next_id"
   ]
  },
  {
   "cell_type": "markdown",
   "metadata": {},
   "source": [
    "---"
   ]
  },
  {
   "cell_type": "markdown",
   "metadata": {},
   "source": [
    "#### Get dois"
   ]
  },
  {
   "cell_type": "code",
   "execution_count": 63,
   "metadata": {
    "ExecuteTime": {
     "end_time": "2018-01-03T02:51:35.201970Z",
     "start_time": "2018-01-03T02:51:35.198661Z"
    }
   },
   "outputs": [],
   "source": [
    "table_tag = tab_div.find('table', class_='text12')"
   ]
  },
  {
   "cell_type": "code",
   "execution_count": 64,
   "metadata": {
    "ExecuteTime": {
     "end_time": "2018-01-03T02:51:35.546213Z",
     "start_time": "2018-01-03T02:51:35.518254Z"
    }
   },
   "outputs": [
    {
     "data": {
      "text/plain": [
       "706"
      ]
     },
     "execution_count": 64,
     "metadata": {},
     "output_type": "execute_result"
    }
   ],
   "source": [
    "all_doi_a_tag = [a_ for span_tag in table_tag.find_all('span')\\\n",
    "                 for a_ in span_tag.find_all('a')]\n",
    "len(all_doi_a_tag)"
   ]
  },
  {
   "cell_type": "code",
   "execution_count": 65,
   "metadata": {
    "ExecuteTime": {
     "end_time": "2018-01-03T02:51:35.984776Z",
     "start_time": "2018-01-03T02:51:35.982110Z"
    }
   },
   "outputs": [],
   "source": [
    "doi_list = list()"
   ]
  },
  {
   "cell_type": "code",
   "execution_count": 66,
   "metadata": {
    "ExecuteTime": {
     "end_time": "2018-01-03T02:51:36.377333Z",
     "start_time": "2018-01-03T02:51:36.370184Z"
    }
   },
   "outputs": [],
   "source": [
    "for a_ in all_doi_a_tag:\n",
    "    try:\n",
    "        if a_['title'] == 'DOI':\n",
    "            doi_list.append(a_.text.strip())\n",
    "    except:\n",
    "        continue"
   ]
  },
  {
   "cell_type": "code",
   "execution_count": 67,
   "metadata": {
    "ExecuteTime": {
     "end_time": "2018-01-03T02:51:36.737494Z",
     "start_time": "2018-01-03T02:51:36.733533Z"
    }
   },
   "outputs": [
    {
     "data": {
      "text/plain": [
       "116"
      ]
     },
     "execution_count": 67,
     "metadata": {},
     "output_type": "execute_result"
    }
   ],
   "source": [
    "len(doi_list)"
   ]
  },
  {
   "cell_type": "markdown",
   "metadata": {},
   "source": [
    "---"
   ]
  },
  {
   "cell_type": "markdown",
   "metadata": {},
   "source": [
    "#### Get all dois"
   ]
  },
  {
   "cell_type": "code",
   "execution_count": 111,
   "metadata": {
    "ExecuteTime": {
     "end_time": "2018-01-03T03:54:55.899075Z",
     "start_time": "2018-01-03T03:54:55.840330Z"
    }
   },
   "outputs": [],
   "source": [
    "def get_jcdl_dois(conf_id):\n",
    "    start_req = requests.get(base_url, params={'id': conf_id, 'preflayout': 'flat'},\n",
    "                             headers={'User-Agent': agent})\n",
    "    content = Soup(start_req.content, 'lxml')\n",
    "    # The last `flatbody`\n",
    "    tab_div = content.find_all('div', class_='flatbody')[-1]\n",
    "    # The 2nd div in `tab_div`\n",
    "    tmp_div = tab_div.find_all('div')[2]\n",
    "    # The last hperlink (tag `a`) in the 1st div in `tmp_div`\n",
    "    a_tag = tmp_div.find('div').find_all('a')[-1]\n",
    "    # The link in the `a_tag`\n",
    "    next_id = a_tag['href'].split('&')[0].split('=')[-1]\n",
    "    \n",
    "    ## Get dois ##\n",
    "    table_tag = tab_div.find('table', class_='text12')\n",
    "    all_doi_a_tag = [a_ for span_tag in table_tag.find_all('span')\\\n",
    "                     for a_ in span_tag.find_all('a')]\n",
    "    doi_list = list()\n",
    "    for a_ in all_doi_a_tag:\n",
    "        try:\n",
    "            if a_['title'] == 'DOI':\n",
    "                doi_list.append(a_.text.strip())\n",
    "        except:\n",
    "            continue\n",
    "    return next_id, doi_list"
   ]
  },
  {
   "cell_type": "markdown",
   "metadata": {},
   "source": [
    "##### Test"
   ]
  },
  {
   "cell_type": "code",
   "execution_count": 113,
   "metadata": {
    "ExecuteTime": {
     "end_time": "2018-01-03T03:55:01.874612Z",
     "start_time": "2018-01-03T03:55:01.871822Z"
    }
   },
   "outputs": [],
   "source": [
    "conf_id = '544220'"
   ]
  },
  {
   "cell_type": "code",
   "execution_count": 114,
   "metadata": {
    "ExecuteTime": {
     "end_time": "2018-01-03T03:55:22.781085Z",
     "start_time": "2018-01-03T03:55:02.376502Z"
    }
   },
   "outputs": [],
   "source": [
    "next_id, doi_list = get_jcdl_dois(conf_id)"
   ]
  },
  {
   "cell_type": "code",
   "execution_count": 115,
   "metadata": {
    "ExecuteTime": {
     "end_time": "2018-01-03T03:55:22.786364Z",
     "start_time": "2018-01-03T03:55:22.782902Z"
    }
   },
   "outputs": [
    {
     "data": {
      "text/plain": [
       "'827140'"
      ]
     },
     "execution_count": 115,
     "metadata": {},
     "output_type": "execute_result"
    }
   ],
   "source": [
    "next_id"
   ]
  },
  {
   "cell_type": "code",
   "execution_count": 116,
   "metadata": {
    "ExecuteTime": {
     "end_time": "2018-01-03T03:55:22.798101Z",
     "start_time": "2018-01-03T03:55:22.789848Z"
    }
   },
   "outputs": [
    {
     "data": {
      "text/plain": [
       "(135,\n",
       " ['10.1145/544220.544222',\n",
       "  '10.1145/544220.544223',\n",
       "  '10.1145/544220.544224',\n",
       "  '10.1145/544220.544226'])"
      ]
     },
     "execution_count": 116,
     "metadata": {},
     "output_type": "execute_result"
    }
   ],
   "source": [
    "len(doi_list), doi_list[:4]"
   ]
  },
  {
   "cell_type": "markdown",
   "metadata": {},
   "source": [
    "##### Apply"
   ]
  },
  {
   "cell_type": "code",
   "execution_count": 117,
   "metadata": {
    "ExecuteTime": {
     "end_time": "2018-01-03T03:57:33.831811Z",
     "start_time": "2018-01-03T03:57:33.828261Z"
    }
   },
   "outputs": [],
   "source": [
    "next_id = '379437'\n",
    "doi_list = list()"
   ]
  },
  {
   "cell_type": "code",
   "execution_count": 118,
   "metadata": {
    "ExecuteTime": {
     "end_time": "2018-01-03T04:05:41.303983Z",
     "start_time": "2018-01-03T03:58:08.308017Z"
    },
    "collapsed": true
   },
   "outputs": [
    {
     "name": "stdout",
     "output_type": "stream",
     "text": [
      "0 544220 116\n",
      "--------------\n",
      "1 827140 251\n",
      "--------------\n",
      "2 996350 251\n",
      "--------------\n",
      "3 1065385 368\n",
      "--------------\n",
      "4 1141753 496\n",
      "--------------\n",
      "5 1255175 604\n",
      "--------------\n",
      "6 1378889 721\n",
      "--------------\n",
      "7 1555400 833\n",
      "--------------\n",
      "8 1816123 945\n",
      "--------------\n",
      "9 1998076 1011\n",
      "--------------\n",
      "10 2232817 1113\n",
      "--------------\n",
      "11 2467696 1212\n",
      "--------------\n",
      "12 2740769 1309\n",
      "--------------\n",
      "13 2756406 1309\n",
      "--------------\n",
      "14 2910896 1376\n",
      "--------------\n"
     ]
    }
   ],
   "source": [
    "for i in range(15):\n",
    "    next_id, doi = get_jcdl_dois(next_id)\n",
    "    doi_list.extend(doi)\n",
    "    print(i, next_id, len(doi_list))\n",
    "    print('--------------')\n",
    "    time.sleep(random.randint(2, 5) + random.random())"
   ]
  },
  {
   "cell_type": "code",
   "execution_count": 119,
   "metadata": {
    "ExecuteTime": {
     "end_time": "2018-01-03T04:06:09.150849Z",
     "start_time": "2018-01-03T04:06:09.132798Z"
    }
   },
   "outputs": [
    {
     "data": {
      "text/plain": [
       "1376"
      ]
     },
     "execution_count": 119,
     "metadata": {},
     "output_type": "execute_result"
    }
   ],
   "source": [
    "len(doi_list)"
   ]
  },
  {
   "cell_type": "code",
   "execution_count": 120,
   "metadata": {
    "ExecuteTime": {
     "end_time": "2018-01-03T04:06:18.461843Z",
     "start_time": "2018-01-03T04:06:18.443243Z"
    }
   },
   "outputs": [
    {
     "data": {
      "text/plain": [
       "1376"
      ]
     },
     "execution_count": 120,
     "metadata": {},
     "output_type": "execute_result"
    }
   ],
   "source": [
    "len(set(doi_list))"
   ]
  },
  {
   "cell_type": "markdown",
   "metadata": {},
   "source": [
    "##### Save doi list"
   ]
  },
  {
   "cell_type": "code",
   "execution_count": 122,
   "metadata": {
    "ExecuteTime": {
     "end_time": "2018-01-03T04:13:07.861554Z",
     "start_time": "2018-01-03T04:13:07.846837Z"
    }
   },
   "outputs": [],
   "source": [
    "np.savetxt(X=doi_list, fname='JCDL-DOI-01-16.csv', fmt='%s')"
   ]
  }
 ],
 "metadata": {
  "kernelspec": {
   "display_name": "Python 3",
   "language": "python",
   "name": "python3"
  },
  "language_info": {
   "codemirror_mode": {
    "name": "ipython",
    "version": 3
   },
   "file_extension": ".py",
   "mimetype": "text/x-python",
   "name": "python",
   "nbconvert_exporter": "python",
   "pygments_lexer": "ipython3",
   "version": "3.6.3"
  },
  "toc": {
   "nav_menu": {},
   "number_sections": true,
   "sideBar": true,
   "skip_h1_title": false,
   "toc_cell": false,
   "toc_position": {
    "height": "836px",
    "left": "0px",
    "right": "1468px",
    "top": "113px",
    "width": "212px"
   },
   "toc_section_display": "block",
   "toc_window_display": true
  }
 },
 "nbformat": 4,
 "nbformat_minor": 2
}
