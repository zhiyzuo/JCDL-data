{
 "cells": [
  {
   "cell_type": "markdown",
   "metadata": {},
   "source": [
    "Using ___DOI___ info, Scopus database will be used to retrieve article info such as `scopus_id`"
   ]
  },
  {
   "cell_type": "markdown",
   "metadata": {},
   "source": [
    "01-03-2017."
   ]
  },
  {
   "cell_type": "markdown",
   "metadata": {},
   "source": [
    "---"
   ]
  },
  {
   "cell_type": "code",
   "execution_count": 38,
   "metadata": {
    "ExecuteTime": {
     "end_time": "2018-01-03T06:27:16.675322Z",
     "start_time": "2018-01-03T06:27:16.672616Z"
    }
   },
   "outputs": [],
   "source": [
    "from pyscopus import Scopus\n",
    "apikey = 'ecce3ba70f145bb72f4521013930868a'\n",
    "scopus = Scopus(apikey)"
   ]
  },
  {
   "cell_type": "code",
   "execution_count": 3,
   "metadata": {
    "ExecuteTime": {
     "end_time": "2018-01-03T05:37:00.436509Z",
     "start_time": "2018-01-03T05:37:00.434399Z"
    }
   },
   "outputs": [],
   "source": [
    "import pandas as pd"
   ]
  },
  {
   "cell_type": "code",
   "execution_count": 4,
   "metadata": {
    "ExecuteTime": {
     "end_time": "2018-01-03T05:37:15.343830Z",
     "start_time": "2018-01-03T05:37:15.324879Z"
    }
   },
   "outputs": [
    {
     "data": {
      "text/plain": [
       "array(['10.1145/379437.379439', '10.1145/379437.379440',\n",
       "       '10.1145/379437.379441', ..., '10.1145/2756406.2756930',\n",
       "       '10.1145/2756406.2756932', '10.1145/2756406.2756934'],\n",
       "      dtype='<U23')"
      ]
     },
     "execution_count": 4,
     "metadata": {},
     "output_type": "execute_result"
    }
   ],
   "source": [
    "doi_arr = pd.np.loadtxt('./JCDL-DOI-01-16.csv', dtype=str)\n",
    "doi_arr"
   ]
  },
  {
   "cell_type": "code",
   "execution_count": 36,
   "metadata": {
    "ExecuteTime": {
     "end_time": "2018-01-03T06:21:58.079585Z",
     "start_time": "2018-01-03T06:21:58.076461Z"
    }
   },
   "outputs": [
    {
     "data": {
      "text/plain": [
       "'10.1145/379437.379439,10.1145/379437.379440,10.1145/379437.379441,10.1145/379437.379442,10.1145/379437.379443,10.1145/379437.379444,10.1145/379437.379445,10.1145/379437.379446,10.1145/379437.379447,10.1145/379437.379448'"
      ]
     },
     "execution_count": 36,
     "metadata": {},
     "output_type": "execute_result"
    }
   ],
   "source": [
    "','.join(doi_arr[:10])"
   ]
  },
  {
   "cell_type": "code",
   "execution_count": 19,
   "metadata": {
    "ExecuteTime": {
     "end_time": "2018-01-03T06:06:02.325380Z",
     "start_time": "2018-01-03T06:06:02.323310Z"
    }
   },
   "outputs": [],
   "source": [
    "import requests"
   ]
  },
  {
   "cell_type": "markdown",
   "metadata": {},
   "source": [
    "---"
   ]
  },
  {
   "cell_type": "markdown",
   "metadata": {},
   "source": [
    "#### Search by DOI"
   ]
  },
  {
   "cell_type": "markdown",
   "metadata": {},
   "source": [
    "##### Test for one DOI"
   ]
  },
  {
   "cell_type": "code",
   "execution_count": 5,
   "metadata": {
    "ExecuteTime": {
     "end_time": "2018-01-03T05:37:44.560321Z",
     "start_time": "2018-01-03T05:37:44.556683Z"
    }
   },
   "outputs": [
    {
     "data": {
      "text/plain": [
       "'10.1145/379437.379439'"
      ]
     },
     "execution_count": 5,
     "metadata": {},
     "output_type": "execute_result"
    }
   ],
   "source": [
    "i = 0\n",
    "doi = doi_arr[i]\n",
    "doi"
   ]
  },
  {
   "cell_type": "code",
   "execution_count": 6,
   "metadata": {
    "ExecuteTime": {
     "end_time": "2018-01-03T05:37:55.720565Z",
     "start_time": "2018-01-03T05:37:54.938656Z"
    }
   },
   "outputs": [
    {
     "data": {
      "text/html": [
       "<div>\n",
       "<style scoped>\n",
       "    .dataframe tbody tr th:only-of-type {\n",
       "        vertical-align: middle;\n",
       "    }\n",
       "\n",
       "    .dataframe tbody tr th {\n",
       "        vertical-align: top;\n",
       "    }\n",
       "\n",
       "    .dataframe thead th {\n",
       "        text-align: right;\n",
       "    }\n",
       "</style>\n",
       "<table border=\"1\" class=\"dataframe\">\n",
       "  <thead>\n",
       "    <tr style=\"text-align: right;\">\n",
       "      <th></th>\n",
       "      <th>affiliation</th>\n",
       "      <th>aggregation_type</th>\n",
       "      <th>citation_count</th>\n",
       "      <th>cover_date</th>\n",
       "      <th>doi</th>\n",
       "      <th>eissn</th>\n",
       "      <th>isbn</th>\n",
       "      <th>issn</th>\n",
       "      <th>page_range</th>\n",
       "      <th>publication_name</th>\n",
       "      <th>scopus_id</th>\n",
       "      <th>subtype_description</th>\n",
       "      <th>title</th>\n",
       "      <th>volume</th>\n",
       "    </tr>\n",
       "  </thead>\n",
       "  <tbody>\n",
       "    <tr>\n",
       "      <th>0</th>\n",
       "      <td>[{'name': 'Technische Universitat Wien', 'city...</td>\n",
       "      <td>Conference Proceeding</td>\n",
       "      <td>9</td>\n",
       "      <td>2001-01-01</td>\n",
       "      <td>10.1145/379437.379439</td>\n",
       "      <td>None</td>\n",
       "      <td>1581133456</td>\n",
       "      <td>None</td>\n",
       "      <td>1-10</td>\n",
       "      <td>Proceedings of the ACM International Conferenc...</td>\n",
       "      <td>84901253569</td>\n",
       "      <td>Conference Paper</td>\n",
       "      <td>Integrating automatic genre analysis into digi...</td>\n",
       "      <td>None</td>\n",
       "    </tr>\n",
       "  </tbody>\n",
       "</table>\n",
       "</div>"
      ],
      "text/plain": [
       "                                         affiliation       aggregation_type  \\\n",
       "0  [{'name': 'Technische Universitat Wien', 'city...  Conference Proceeding   \n",
       "\n",
       "   citation_count  cover_date                    doi eissn        isbn  issn  \\\n",
       "0               9  2001-01-01  10.1145/379437.379439  None  1581133456  None   \n",
       "\n",
       "  page_range                                   publication_name    scopus_id  \\\n",
       "0       1-10  Proceedings of the ACM International Conferenc...  84901253569   \n",
       "\n",
       "  subtype_description                                              title  \\\n",
       "0    Conference Paper  Integrating automatic genre analysis into digi...   \n",
       "\n",
       "  volume  \n",
       "0   None  "
      ]
     },
     "execution_count": 6,
     "metadata": {},
     "output_type": "execute_result"
    }
   ],
   "source": [
    "search_df = scopus.search(\"DOI(%s)\"%doi, count=1)\n",
    "search_df"
   ]
  },
  {
   "cell_type": "markdown",
   "metadata": {},
   "source": [
    "##### Apply"
   ]
  },
  {
   "cell_type": "code",
   "execution_count": 8,
   "metadata": {
    "ExecuteTime": {
     "end_time": "2018-01-03T05:48:00.702142Z",
     "start_time": "2018-01-03T05:40:02.912853Z"
    }
   },
   "outputs": [
    {
     "data": {
      "text/plain": [
       "(1376, 1376)"
      ]
     },
     "execution_count": 8,
     "metadata": {},
     "output_type": "execute_result"
    }
   ],
   "source": [
    "pub_info_df = [scopus.search(\"DOI(%s)\"%doi, count=1) for doi in doi_arr]\n",
    "len(pub_info_df), doi_arr.size"
   ]
  },
  {
   "cell_type": "code",
   "execution_count": 14,
   "metadata": {
    "ExecuteTime": {
     "end_time": "2018-01-03T05:59:31.263627Z",
     "start_time": "2018-01-03T05:59:30.895313Z"
    }
   },
   "outputs": [],
   "source": [
    "pub_info_df = pd.concat(pub_info_df, ignore_index=True)"
   ]
  },
  {
   "cell_type": "code",
   "execution_count": 15,
   "metadata": {
    "ExecuteTime": {
     "end_time": "2018-01-03T05:59:35.936555Z",
     "start_time": "2018-01-03T05:59:35.933495Z"
    }
   },
   "outputs": [
    {
     "data": {
      "text/plain": [
       "(977, 14)"
      ]
     },
     "execution_count": 15,
     "metadata": {},
     "output_type": "execute_result"
    }
   ],
   "source": [
    "pub_info_df.shape"
   ]
  },
  {
   "cell_type": "code",
   "execution_count": 55,
   "metadata": {
    "ExecuteTime": {
     "end_time": "2018-01-03T06:42:57.485662Z",
     "start_time": "2018-01-03T06:42:57.480139Z"
    }
   },
   "outputs": [
    {
     "data": {
      "text/plain": [
       "2001    105\n",
       "2006    108\n",
       "2007    117\n",
       "2008    110\n",
       "2009    110\n",
       "2010     66\n",
       "2011    102\n",
       "2012     99\n",
       "2013     97\n",
       "2015     63\n",
       "Name: cover_date, dtype: int64"
      ]
     },
     "execution_count": 55,
     "metadata": {},
     "output_type": "execute_result"
    }
   ],
   "source": [
    "pub_info_df.cover_date.str.slice(0, 4).value_counts().sort_index()"
   ]
  },
  {
   "cell_type": "code",
   "execution_count": 16,
   "metadata": {
    "ExecuteTime": {
     "end_time": "2018-01-03T05:59:55.711562Z",
     "start_time": "2018-01-03T05:59:55.653042Z"
    }
   },
   "outputs": [],
   "source": [
    "pub_info_df.to_csv('./JCDL-meta-01-16.csv', index=False)"
   ]
  },
  {
   "cell_type": "markdown",
   "metadata": {},
   "source": [
    "---"
   ]
  },
  {
   "cell_type": "markdown",
   "metadata": {},
   "source": [
    "#### Full text??"
   ]
  },
  {
   "cell_type": "markdown",
   "metadata": {},
   "source": [
    "Try to see if full text is avaialbel for the given DOIs"
   ]
  },
  {
   "cell_type": "markdown",
   "metadata": {},
   "source": [
    "##### Test for one DOI"
   ]
  },
  {
   "cell_type": "code",
   "execution_count": 31,
   "metadata": {
    "ExecuteTime": {
     "end_time": "2018-01-03T06:16:54.044055Z",
     "start_time": "2018-01-03T06:16:54.040933Z"
    }
   },
   "outputs": [
    {
     "data": {
      "text/plain": [
       "'10.1145/379437.379440'"
      ]
     },
     "execution_count": 31,
     "metadata": {},
     "output_type": "execute_result"
    }
   ],
   "source": [
    "doi = '10.1145/379437.379440'\n",
    "doi"
   ]
  },
  {
   "cell_type": "code",
   "execution_count": 32,
   "metadata": {
    "ExecuteTime": {
     "end_time": "2018-01-03T06:16:54.795832Z",
     "start_time": "2018-01-03T06:16:54.792899Z"
    }
   },
   "outputs": [
    {
     "data": {
      "text/plain": [
       "'https://api.elsevier.com/content/article/doi/10.1145/379437.379440'"
      ]
     },
     "execution_count": 32,
     "metadata": {},
     "output_type": "execute_result"
    }
   ],
   "source": [
    "fulltext_api_url = 'https://api.elsevier.com/content/article/doi/' + doi\n",
    "fulltext_api_url"
   ]
  },
  {
   "cell_type": "code",
   "execution_count": 33,
   "metadata": {
    "ExecuteTime": {
     "end_time": "2018-01-03T06:16:55.689987Z",
     "start_time": "2018-01-03T06:16:55.475646Z"
    }
   },
   "outputs": [],
   "source": [
    "r = requests.get(fulltext_api_url, params={'apikey': '94ad3b792ed6fe7680e2eb0f08887379'})"
   ]
  },
  {
   "cell_type": "code",
   "execution_count": 34,
   "metadata": {
    "ExecuteTime": {
     "end_time": "2018-01-03T06:16:56.207929Z",
     "start_time": "2018-01-03T06:16:56.205353Z"
    }
   },
   "outputs": [
    {
     "data": {
      "text/plain": [
       "'https://api.elsevier.com/content/article/doi/10.1145/379437.379440?apikey=94ad3b792ed6fe7680e2eb0f08887379'"
      ]
     },
     "execution_count": 34,
     "metadata": {},
     "output_type": "execute_result"
    }
   ],
   "source": [
    "r.url"
   ]
  },
  {
   "cell_type": "code",
   "execution_count": 37,
   "metadata": {
    "ExecuteTime": {
     "end_time": "2018-01-03T06:23:34.561898Z",
     "start_time": "2018-01-03T06:23:34.559349Z"
    }
   },
   "outputs": [
    {
     "name": "stdout",
     "output_type": "stream",
     "text": [
      "b'<service-error><status><statusCode>RESOURCE_NOT_FOUND</statusCode><statusText>The resource specified cannot be found.</statusText></status></service-error>'\n"
     ]
    }
   ],
   "source": [
    "print(r.content)"
   ]
  },
  {
   "cell_type": "markdown",
   "metadata": {},
   "source": [
    "Seems not working"
   ]
  },
  {
   "cell_type": "markdown",
   "metadata": {},
   "source": [
    "---"
   ]
  },
  {
   "cell_type": "markdown",
   "metadata": {},
   "source": [
    "#### Abstract"
   ]
  },
  {
   "cell_type": "code",
   "execution_count": 41,
   "metadata": {
    "ExecuteTime": {
     "end_time": "2018-01-03T06:28:36.423181Z",
     "start_time": "2018-01-03T06:28:36.398844Z"
    }
   },
   "outputs": [
    {
     "data": {
      "text/html": [
       "<div>\n",
       "<style scoped>\n",
       "    .dataframe tbody tr th:only-of-type {\n",
       "        vertical-align: middle;\n",
       "    }\n",
       "\n",
       "    .dataframe tbody tr th {\n",
       "        vertical-align: top;\n",
       "    }\n",
       "\n",
       "    .dataframe thead th {\n",
       "        text-align: right;\n",
       "    }\n",
       "</style>\n",
       "<table border=\"1\" class=\"dataframe\">\n",
       "  <thead>\n",
       "    <tr style=\"text-align: right;\">\n",
       "      <th></th>\n",
       "      <th>affiliation</th>\n",
       "      <th>aggregation_type</th>\n",
       "      <th>citation_count</th>\n",
       "      <th>cover_date</th>\n",
       "      <th>doi</th>\n",
       "      <th>eissn</th>\n",
       "      <th>isbn</th>\n",
       "      <th>issn</th>\n",
       "      <th>page_range</th>\n",
       "      <th>publication_name</th>\n",
       "      <th>scopus_id</th>\n",
       "      <th>subtype_description</th>\n",
       "      <th>title</th>\n",
       "      <th>volume</th>\n",
       "    </tr>\n",
       "  </thead>\n",
       "  <tbody>\n",
       "    <tr>\n",
       "      <th>0</th>\n",
       "      <td>[{'name': 'Technische Universitat Wien', 'city...</td>\n",
       "      <td>Conference Proceeding</td>\n",
       "      <td>9</td>\n",
       "      <td>2001-01-01</td>\n",
       "      <td>10.1145/379437.379439</td>\n",
       "      <td>NaN</td>\n",
       "      <td>1581133456</td>\n",
       "      <td>NaN</td>\n",
       "      <td>1-10</td>\n",
       "      <td>Proceedings of the ACM International Conferenc...</td>\n",
       "      <td>84901253569</td>\n",
       "      <td>Conference Paper</td>\n",
       "      <td>Integrating automatic genre analysis into digi...</td>\n",
       "      <td>NaN</td>\n",
       "    </tr>\n",
       "    <tr>\n",
       "      <th>1</th>\n",
       "      <td>[{'name': 'Universita degli Studi di Firenze',...</td>\n",
       "      <td>Conference Proceeding</td>\n",
       "      <td>2</td>\n",
       "      <td>2001-01-01</td>\n",
       "      <td>10.1145/379437.379440</td>\n",
       "      <td>NaN</td>\n",
       "      <td>1581133456</td>\n",
       "      <td>NaN</td>\n",
       "      <td>11-20</td>\n",
       "      <td>Proceedings of the ACM International Conferenc...</td>\n",
       "      <td>84901254140</td>\n",
       "      <td>Conference Paper</td>\n",
       "      <td>Text categorization for multi-page documents: ...</td>\n",
       "      <td>NaN</td>\n",
       "    </tr>\n",
       "  </tbody>\n",
       "</table>\n",
       "</div>"
      ],
      "text/plain": [
       "                                         affiliation       aggregation_type  \\\n",
       "0  [{'name': 'Technische Universitat Wien', 'city...  Conference Proceeding   \n",
       "1  [{'name': 'Universita degli Studi di Firenze',...  Conference Proceeding   \n",
       "\n",
       "   citation_count  cover_date                    doi  eissn        isbn  issn  \\\n",
       "0               9  2001-01-01  10.1145/379437.379439    NaN  1581133456   NaN   \n",
       "1               2  2001-01-01  10.1145/379437.379440    NaN  1581133456   NaN   \n",
       "\n",
       "  page_range                                   publication_name    scopus_id  \\\n",
       "0       1-10  Proceedings of the ACM International Conferenc...  84901253569   \n",
       "1      11-20  Proceedings of the ACM International Conferenc...  84901254140   \n",
       "\n",
       "  subtype_description                                              title  \\\n",
       "0    Conference Paper  Integrating automatic genre analysis into digi...   \n",
       "1    Conference Paper  Text categorization for multi-page documents: ...   \n",
       "\n",
       "  volume  \n",
       "0    NaN  \n",
       "1    NaN  "
      ]
     },
     "execution_count": 41,
     "metadata": {},
     "output_type": "execute_result"
    }
   ],
   "source": [
    "info_df = pd.read_csv('./JCDL-meta-01-16.csv',\n",
    "                      converters={'scopus_id': str})\n",
    "info_df.head(2)"
   ]
  },
  {
   "cell_type": "markdown",
   "metadata": {},
   "source": [
    "##### Test for one article"
   ]
  },
  {
   "cell_type": "code",
   "execution_count": 42,
   "metadata": {
    "ExecuteTime": {
     "end_time": "2018-01-03T06:28:39.375119Z",
     "start_time": "2018-01-03T06:28:39.371581Z"
    }
   },
   "outputs": [
    {
     "data": {
      "text/plain": [
       "'84901253569'"
      ]
     },
     "execution_count": 42,
     "metadata": {},
     "output_type": "execute_result"
    }
   ],
   "source": [
    "scopus_id = info_df.loc[0, 'scopus_id']\n",
    "scopus_id"
   ]
  },
  {
   "cell_type": "code",
   "execution_count": 43,
   "metadata": {
    "ExecuteTime": {
     "end_time": "2018-01-03T06:28:44.786615Z",
     "start_time": "2018-01-03T06:28:44.081749Z"
    }
   },
   "outputs": [
    {
     "data": {
      "text/plain": [
       "{'abstract': 'With the number and types of documents in digital library systems increasing, tools for automatically organizing and presenting the content have to be found. While many approaches focus on topic-based organization and structuring, hardly any system incorporates automatic structural analysis and representation. Yet, genre information (unconsciously) forms one of the most distinguishing features in conventional libraries and in information searches. In this paper we present an approach to automatically analyze the structure of documents and to integrate this information into an automatically created content-based organization. In the resulting visualization, documents on similar topics, yet representing different genres, are depicted as books in differing colors. This representation supports users intuitively in locating relevant information presented in a relevant form. Copyright 2001 ACM.',\n",
       " 'citedby-count': '9',\n",
       " 'dc:publisher': 'Association for Computing Machinery acmhelpacm.org',\n",
       " 'eid': '2-s2.0-84901253569',\n",
       " 'prism:aggregationType': 'Conference Proceeding',\n",
       " 'prism:coverDate': '2001-01-01',\n",
       " 'prism:doi': '10.1145/379437.379439',\n",
       " 'prism:endingPage': '10',\n",
       " 'prism:isbn': [{'$': '1581133456'}, {'$': '9781581133455'}],\n",
       " 'prism:pageRange': '1-10',\n",
       " 'prism:publicationName': 'Proceedings of the ACM International Conference on Digital Libraries',\n",
       " 'prism:startingPage': '1',\n",
       " 'prism:url': 'http://api.elsevier.com/content/abstract/scopus_id/84901253569',\n",
       " 'scopus-id': '84901253569',\n",
       " 'source-id': '62702',\n",
       " 'srctype': 'p',\n",
       " 'title': 'Integrating automatic genre analysis into digital libraries'}"
      ]
     },
     "execution_count": 43,
     "metadata": {},
     "output_type": "execute_result"
    }
   ],
   "source": [
    "scopus.retrieve_abstract(scopus_id)"
   ]
  },
  {
   "cell_type": "markdown",
   "metadata": {},
   "source": [
    "##### Apply"
   ]
  },
  {
   "cell_type": "code",
   "execution_count": 44,
   "metadata": {
    "ExecuteTime": {
     "end_time": "2018-01-03T06:36:41.696422Z",
     "start_time": "2018-01-03T06:30:06.477140Z"
    }
   },
   "outputs": [
    {
     "data": {
      "text/plain": [
       "931"
      ]
     },
     "execution_count": 44,
     "metadata": {},
     "output_type": "execute_result"
    }
   ],
   "source": [
    "abstract_df = list()\n",
    "not_working_list = list()\n",
    "for scopus_id in info_df.scopus_id.values:\n",
    "    try:\n",
    "        abstract_df.append(scopus.retrieve_abstract(scopus_id))\n",
    "    except:\n",
    "        not_working_list.append(scopus_id)\n",
    "        continue\n",
    "len(abstract_df)"
   ]
  },
  {
   "cell_type": "code",
   "execution_count": 47,
   "metadata": {
    "ExecuteTime": {
     "end_time": "2018-01-03T06:39:34.732076Z",
     "start_time": "2018-01-03T06:39:34.728343Z"
    }
   },
   "outputs": [
    {
     "data": {
      "text/plain": [
       "{'abstract': 'With the number and types of documents in digital library systems increasing, tools for automatically organizing and presenting the content have to be found. While many approaches focus on topic-based organization and structuring, hardly any system incorporates automatic structural analysis and representation. Yet, genre information (unconsciously) forms one of the most distinguishing features in conventional libraries and in information searches. In this paper we present an approach to automatically analyze the structure of documents and to integrate this information into an automatically created content-based organization. In the resulting visualization, documents on similar topics, yet representing different genres, are depicted as books in differing colors. This representation supports users intuitively in locating relevant information presented in a relevant form. Copyright 2001 ACM.',\n",
       " 'citedby-count': '9',\n",
       " 'dc:publisher': 'Association for Computing Machinery acmhelpacm.org',\n",
       " 'eid': '2-s2.0-84901253569',\n",
       " 'prism:aggregationType': 'Conference Proceeding',\n",
       " 'prism:coverDate': '2001-01-01',\n",
       " 'prism:doi': '10.1145/379437.379439',\n",
       " 'prism:endingPage': '10',\n",
       " 'prism:isbn': [{'$': '1581133456'}, {'$': '9781581133455'}],\n",
       " 'prism:pageRange': '1-10',\n",
       " 'prism:publicationName': 'Proceedings of the ACM International Conference on Digital Libraries',\n",
       " 'prism:startingPage': '1',\n",
       " 'prism:url': 'http://api.elsevier.com/content/abstract/scopus_id/84901253569',\n",
       " 'scopus-id': '84901253569',\n",
       " 'source-id': '62702',\n",
       " 'srctype': 'p',\n",
       " 'title': 'Integrating automatic genre analysis into digital libraries'}"
      ]
     },
     "execution_count": 47,
     "metadata": {},
     "output_type": "execute_result"
    }
   ],
   "source": [
    "abstract_df[0]"
   ]
  },
  {
   "cell_type": "code",
   "execution_count": 52,
   "metadata": {
    "ExecuteTime": {
     "end_time": "2018-01-03T06:41:12.116801Z",
     "start_time": "2018-01-03T06:41:12.089762Z"
    }
   },
   "outputs": [
    {
     "data": {
      "text/html": [
       "<div>\n",
       "<style scoped>\n",
       "    .dataframe tbody tr th:only-of-type {\n",
       "        vertical-align: middle;\n",
       "    }\n",
       "\n",
       "    .dataframe tbody tr th {\n",
       "        vertical-align: top;\n",
       "    }\n",
       "\n",
       "    .dataframe thead th {\n",
       "        text-align: right;\n",
       "    }\n",
       "</style>\n",
       "<table border=\"1\" class=\"dataframe\">\n",
       "  <thead>\n",
       "    <tr style=\"text-align: right;\">\n",
       "      <th></th>\n",
       "      <th>abstract</th>\n",
       "      <th>citedby-count</th>\n",
       "      <th>dc:publisher</th>\n",
       "      <th>eid</th>\n",
       "      <th>prism:aggregationType</th>\n",
       "      <th>prism:coverDate</th>\n",
       "      <th>prism:doi</th>\n",
       "      <th>prism:endingPage</th>\n",
       "      <th>prism:isbn</th>\n",
       "      <th>prism:issn</th>\n",
       "      <th>prism:pageRange</th>\n",
       "      <th>prism:publicationName</th>\n",
       "      <th>prism:startingPage</th>\n",
       "      <th>prism:url</th>\n",
       "      <th>prism:volume</th>\n",
       "      <th>scopus-id</th>\n",
       "      <th>source-id</th>\n",
       "      <th>srctype</th>\n",
       "      <th>title</th>\n",
       "    </tr>\n",
       "  </thead>\n",
       "  <tbody>\n",
       "    <tr>\n",
       "      <th>0</th>\n",
       "      <td>With the number and types of documents in digi...</td>\n",
       "      <td>9</td>\n",
       "      <td>Association for Computing Machinery acmhelpacm...</td>\n",
       "      <td>2-s2.0-84901253569</td>\n",
       "      <td>Conference Proceeding</td>\n",
       "      <td>2001-01-01</td>\n",
       "      <td>10.1145/379437.379439</td>\n",
       "      <td>10</td>\n",
       "      <td>[{'$': '1581133456'}, {'$': '9781581133455'}]</td>\n",
       "      <td>NaN</td>\n",
       "      <td>1-10</td>\n",
       "      <td>Proceedings of the ACM International Conferenc...</td>\n",
       "      <td>1</td>\n",
       "      <td>http://api.elsevier.com/content/abstract/scopu...</td>\n",
       "      <td>NaN</td>\n",
       "      <td>84901253569</td>\n",
       "      <td>62702</td>\n",
       "      <td>p</td>\n",
       "      <td>Integrating automatic genre analysis into digi...</td>\n",
       "    </tr>\n",
       "    <tr>\n",
       "      <th>1</th>\n",
       "      <td>Text categorization is typically formulated as...</td>\n",
       "      <td>2</td>\n",
       "      <td>Association for Computing Machinery acmhelpacm...</td>\n",
       "      <td>2-s2.0-84901254140</td>\n",
       "      <td>Conference Proceeding</td>\n",
       "      <td>2001-01-01</td>\n",
       "      <td>10.1145/379437.379440</td>\n",
       "      <td>20</td>\n",
       "      <td>[{'$': '1581133456'}, {'$': '9781581133455'}]</td>\n",
       "      <td>NaN</td>\n",
       "      <td>11-20</td>\n",
       "      <td>Proceedings of the ACM International Conferenc...</td>\n",
       "      <td>11</td>\n",
       "      <td>http://api.elsevier.com/content/abstract/scopu...</td>\n",
       "      <td>NaN</td>\n",
       "      <td>84901254140</td>\n",
       "      <td>62702</td>\n",
       "      <td>p</td>\n",
       "      <td>Text categorization for multi-page documents: ...</td>\n",
       "    </tr>\n",
       "  </tbody>\n",
       "</table>\n",
       "</div>"
      ],
      "text/plain": [
       "                                            abstract citedby-count  \\\n",
       "0  With the number and types of documents in digi...             9   \n",
       "1  Text categorization is typically formulated as...             2   \n",
       "\n",
       "                                        dc:publisher                 eid  \\\n",
       "0  Association for Computing Machinery acmhelpacm...  2-s2.0-84901253569   \n",
       "1  Association for Computing Machinery acmhelpacm...  2-s2.0-84901254140   \n",
       "\n",
       "   prism:aggregationType prism:coverDate              prism:doi  \\\n",
       "0  Conference Proceeding      2001-01-01  10.1145/379437.379439   \n",
       "1  Conference Proceeding      2001-01-01  10.1145/379437.379440   \n",
       "\n",
       "  prism:endingPage                                     prism:isbn prism:issn  \\\n",
       "0               10  [{'$': '1581133456'}, {'$': '9781581133455'}]        NaN   \n",
       "1               20  [{'$': '1581133456'}, {'$': '9781581133455'}]        NaN   \n",
       "\n",
       "  prism:pageRange                              prism:publicationName  \\\n",
       "0            1-10  Proceedings of the ACM International Conferenc...   \n",
       "1           11-20  Proceedings of the ACM International Conferenc...   \n",
       "\n",
       "  prism:startingPage                                          prism:url  \\\n",
       "0                  1  http://api.elsevier.com/content/abstract/scopu...   \n",
       "1                 11  http://api.elsevier.com/content/abstract/scopu...   \n",
       "\n",
       "  prism:volume    scopus-id source-id srctype  \\\n",
       "0          NaN  84901253569     62702       p   \n",
       "1          NaN  84901254140     62702       p   \n",
       "\n",
       "                                               title  \n",
       "0  Integrating automatic genre analysis into digi...  \n",
       "1  Text categorization for multi-page documents: ...  "
      ]
     },
     "execution_count": 52,
     "metadata": {},
     "output_type": "execute_result"
    }
   ],
   "source": [
    "abstract_df = pd.DataFrame(abstract_df)\n",
    "abstract_df.head(2)"
   ]
  },
  {
   "cell_type": "code",
   "execution_count": 53,
   "metadata": {
    "ExecuteTime": {
     "end_time": "2018-01-03T06:41:55.660973Z",
     "start_time": "2018-01-03T06:41:55.655725Z"
    }
   },
   "outputs": [
    {
     "data": {
      "text/plain": [
       "2009    106\n",
       "2007    103\n",
       "2008    101\n",
       "2006    101\n",
       "2011    101\n",
       "2001     99\n",
       "2012     96\n",
       "2013     96\n",
       "2010     66\n",
       "2015     62\n",
       "Name: prism:coverDate, dtype: int64"
      ]
     },
     "execution_count": 53,
     "metadata": {},
     "output_type": "execute_result"
    }
   ],
   "source": [
    "abstract_df['prism:coverDate'].str.slice(0, 4).value_counts()"
   ]
  },
  {
   "cell_type": "code",
   "execution_count": 56,
   "metadata": {
    "ExecuteTime": {
     "end_time": "2018-01-03T06:43:16.153078Z",
     "start_time": "2018-01-03T06:43:15.978715Z"
    }
   },
   "outputs": [],
   "source": [
    "abstract_df.to_csv('./JCDL-abstract-01-16.csv', index=False)"
   ]
  }
 ],
 "metadata": {
  "kernelspec": {
   "display_name": "Python 3",
   "language": "python",
   "name": "python3"
  },
  "language_info": {
   "codemirror_mode": {
    "name": "ipython",
    "version": 3
   },
   "file_extension": ".py",
   "mimetype": "text/x-python",
   "name": "python",
   "nbconvert_exporter": "python",
   "pygments_lexer": "ipython3",
   "version": "3.6.3"
  },
  "toc": {
   "nav_menu": {},
   "number_sections": true,
   "sideBar": true,
   "skip_h1_title": false,
   "toc_cell": false,
   "toc_position": {
    "height": "823px",
    "left": "0px",
    "right": "1505px",
    "top": "126px",
    "width": "175px"
   },
   "toc_section_display": "block",
   "toc_window_display": true
  }
 },
 "nbformat": 4,
 "nbformat_minor": 2
}
